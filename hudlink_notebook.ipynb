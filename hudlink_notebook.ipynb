{
  "cells": [
    {
      "cell_type": "markdown",
      "metadata": {
        "id": "view-in-github",
        "colab_type": "text"
      },
      "source": [
        "<a href=\"https://colab.research.google.com/github/sdabney5/hudlink/blob/main/hudlink_notebook.ipynb\" target=\"_parent\"><img src=\"https://colab.research.google.com/assets/colab-badge.svg\" alt=\"Open In Colab\"/></a>"
      ]
    },
    {
      "cell_type": "markdown",
      "metadata": {
        "id": "lFdQ6zoTbFP5"
      },
      "source": [
        "# **hudlink** - Automated ACS-HUD data linking for housing analysis  \n",
        "\n",
        "---\n",
        "---\n",
        "### Welcome to hudlink's interactive notebook!\n",
        "\n",
        "**Click \"Run all\" before proceeding.**\n",
        "\n",
        "\n",
        "\n",
        "---\n",
        "\n",
        "\n",
        "![hudlink notebook click run all.jpg](data:image/jpeg;base64,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)\n",
        "\n",
        "\n",
        "\n",
        "---\n",
        "\n",
        "\n",
        "\n",
        "### 1 ▸  Get a (free) IPUMS API token  \n",
        "1. Create an IPUMS USA account - <https://usa.ipums.org/usa/>  \n",
        "2. Copy your API token from “Account - API Keys”.  \n",
        "3. After you click *Run hudlink*, paste the token when prompted.\n",
        "\n",
        "### 2 ▸  Choose states, years, and HUD programs  \n",
        "Use the check-boxes to pick any combination you need.\n",
        "\n",
        "\n",
        "*   *Note, depending on IPUMS server speed and the size of the state, this could take 5-10 minutes per state / year combination.*\n",
        "\n",
        "### 3 ▸  Click **Run hudlink**  \n",
        "hudlink will:  \n",
        "* download the ACS PUMS files,\n",
        "* crosswalk geo data to fill ay mising county data\n",
        "* apply correct county and household size HUD income limits,  \n",
        "* link HUD's Picture of Subsidized Housing data,  \n",
        "* and export two CSVs per state:  \n",
        "\n",
        "| File | What’s inside |\n",
        "|------|---------------|\n",
        "| **`*_eligibility_*.csv`** | Household/family-level records, all selected ACS vars, eligibility flags (`Eligible_30`, `Eligible_50`, `Eligible_80`), protected-class indicators, survey weights. |\n",
        "| **`*_summary_*.csv`** | County-level totals, HUD program counts, allocation rates, voucher gaps. |\n",
        "\n",
        "\n",
        "> **Want full flexibility?**  \n",
        "> pip-install `hudlink` locally (or clone the repo) to pass any IPUMS variable list, change income-limit aggregation, and more.\n"
      ]
    },
    {
      "cell_type": "markdown",
      "metadata": {
        "id": "NLcFFh4e7xfK"
      },
      "source": [
        "<details>\n",
        "<summary><b>Advanced configuration options (click to expand)</b></summary>\n",
        "\n",
        "### Advanced configuration options\n",
        "\n",
        "### Family vs. Household (`split_households_into_families`)\n",
        "*Off by default.*  \n",
        "When `True`, hudlink treats each family unit in a multi-family household separately. HUD-program eligibility will be considered separaretly for each family. This may be useful in areas with many multi-generational households.\n",
        "\n",
        "### Group-quarters exclusion (`exclude_group_quarters`)\n",
        "*Default: `True`*  \n",
        "Households in institutional group quarters (prisons, dorms, nursing homes) remain in the data but are not flagged as eligible, regardless of income.\n",
        "\n",
        "\n"
      ]
    },
    {
      "cell_type": "markdown",
      "metadata": {
        "id": "YJyZsAy73M1x"
      },
      "source": [
        "# 1. IPUMS Token\n",
        "\n",
        "\n",
        "\n"
      ]
    },
    {
      "cell_type": "code",
      "execution_count": null,
      "metadata": {
        "id": "Un_2cgyiQOBi"
      },
      "outputs": [],
      "source": [
        "# @title 1 · Enter IPUMS API token {display-mode:\"form\"}\n",
        "from IPython.display import display, HTML\n",
        "\n",
        "display(HTML(\"<h3>IPUMS API token</h3>\"))\n",
        "display(token_ui)          # ← token_ui is built in the hidden Setup cell"
      ]
    },
    {
      "cell_type": "markdown",
      "metadata": {
        "id": "HKxwBCeV5_-K"
      },
      "source": [
        "# 2. Options"
      ]
    },
    {
      "cell_type": "code",
      "execution_count": null,
      "metadata": {
        "id": "8h9CmSghfFno"
      },
      "outputs": [],
      "source": [
        "# @title Select hudlink Options {display-mode:\"code\"}\n",
        "from google.colab import output\n",
        "output.enable_custom_widget_manager()\n",
        "\n",
        "from IPython.display import display, HTML\n",
        "\n",
        "display(HTML(\"<h3>Select states</h3>\"));            display(state_grid)\n",
        "display(HTML(\"<h3>Select ACS years</h3>\"));         display(year_grid)\n",
        "display(HTML(\"<h3>Select HUD programs</h3>\"));      display(program_grid)\n",
        "display(HTML(\"<h3>Advanced Options</h3>\"));\n",
        "display(widgets.VBox([exclude_gq_cb, split_fam_cb]))\n"
      ]
    },
    {
      "cell_type": "markdown",
      "metadata": {
        "id": "0gfY6JKj6Mw9"
      },
      "source": [
        "# 3. Run hudlink"
      ]
    },
    {
      "cell_type": "code",
      "execution_count": null,
      "metadata": {
        "id": "07DbKANRnP2R"
      },
      "outputs": [],
      "source": [
        "display(run_button)"
      ]
    },
    {
      "cell_type": "code",
      "execution_count": null,
      "metadata": {
        "id": "7MIu-sn9bacV"
      },
      "outputs": [],
      "source": [
        "# Run to View Allocation Map\n",
        "from IPython.display import HTML, display\n",
        "import pathlib, google.colab.output as colab_out\n",
        "\n",
        "map_path = pathlib.Path(\"/content/hudlink_output/hud_allocation_gap_map_2023.html\")\n",
        "\n",
        "if map_path.exists():\n",
        "    url = colab_out.serve_file(map_path)          # stream the file\n",
        "    display(HTML(f'<h4>HUD allocation-gap map (2023)</h4>'\n",
        "                 f'<iframe src=\"{url}\" width=\"100%\" height=\"600\"></iframe>'))\n",
        "else:\n",
        "    display(HTML(\"<b style='color:red'>No allocation-gap map found. \"\n",
        "                 \"Run hudlink with <code>--create-gap-visual</code> first.</b>\"))\n"
      ]
    },
    {
      "cell_type": "markdown",
      "metadata": {
        "id": "nE-Gay_1cWWG"
      },
      "source": [
        "hudlink notebook under the hood:"
      ]
    },
    {
      "cell_type": "code",
      "execution_count": null,
      "metadata": {
        "id": "gox3SnlDuXT5"
      },
      "outputs": [],
      "source": [
        "# @title install, widgets, etc {display-mode:\"code\"}\n",
        "%%capture\n",
        "# ── Install Colab-native widget stack + hudlink every session ──────────────\n",
        "!pip install -q \"ipywidgets<8\" \"hudlink==3.1.0\" tqdm\n",
        "\n",
        "# ----------------------- Python setup starts here -------------------------\n",
        "import ipywidgets as widgets, pathlib, zipfile, time, subprocess, shlex, textwrap, os\n",
        "from IPython.display import HTML, display, clear_output\n",
        "from google.colab import files\n",
        "\n",
        "# ── Widget builders ───────────────────────────────────────────────────────\n",
        "def build_state_grid():\n",
        "    codes = ['AL','AK','AZ','AR','CA','CO','CT','DE','FL','GA',\n",
        "             'HI','IA','ID','IL','IN','KS','KY','LA','MA','MD',\n",
        "             'ME','MI','MN','MO','MS','MT','NC','ND','NE','NH',\n",
        "             'NJ','NM','NV','NY','OH','OK','OR','PA','RI','SC',\n",
        "             'SD','TN','TX','UT','VA','VT','WA','WI','WV','WY','DC']\n",
        "    checks = {c: widgets.Checkbox(description=c, indent=False,\n",
        "                                  value=(c=='FL'),\n",
        "                                  layout=widgets.Layout(width='45px'))\n",
        "              for c in codes}\n",
        "    rows = [widgets.HBox([checks[c] for c in codes[i:i+10]]) for i in (0,10,20,30)]\n",
        "    rows.append(widgets.HBox([checks[c] for c in codes[40:]]))\n",
        "    return widgets.VBox(rows), checks\n",
        "\n",
        "def build_year_grid():\n",
        "    years = list(range(2006, 2024))\n",
        "    checks = [widgets.Checkbox(description=str(y), indent=False,\n",
        "                               value=(y==2023),\n",
        "                               layout=widgets.Layout(width='55px'))\n",
        "              for y in years]\n",
        "    grid = widgets.GridBox(\n",
        "        checks,\n",
        "        layout=widgets.Layout(grid_template_columns=\"repeat(4,55px)\", grid_gap=\"2px 6px\"))\n",
        "    return grid, checks\n",
        "\n",
        "def build_program_panel():\n",
        "    labels = [\"Summary of All HUD Programs\",\"Mod Rehab\",\"Public Housing\",\n",
        "              \"Section 236\",\"Section 8 NC/SR\",\"LIHTC\",\"Housing Choice Vouchers\",\n",
        "              \"Multi-Family Other\",\"811/PRAC\",\"202/PRAC\"]\n",
        "    checks = [widgets.Checkbox(description=lab, indent=False,\n",
        "                               value=(lab==\"Summary of All HUD Programs\"),\n",
        "                               layout=widgets.Layout(width='350px'))\n",
        "              for lab in labels]\n",
        "    grid = widgets.GridBox(\n",
        "        checks,\n",
        "        layout=widgets.Layout(grid_template_columns=\"repeat(2,200px)\", grid_gap=\"2px 6px\"))\n",
        "    return grid, checks\n",
        "\n",
        "# ── IPUMS token widget & callback ─────────────────────────────────────────\n",
        "token_box = widgets.Password(\n",
        "    placeholder=\"Paste IPUMS API token\",\n",
        "    layout=widgets.Layout(width=\"50%\"))\n",
        "save_btn  = widgets.Button(description=\"Save\", button_style=\"success\")\n",
        "\n",
        "def save_token(_):\n",
        "    tok = token_box.value.strip()\n",
        "    if not tok:\n",
        "        return\n",
        "    # Hudlink default file\n",
        "    secret_path = pathlib.Path(\"secrets/ipums_token.txt\")\n",
        "    secret_path.parent.mkdir(parents=True, exist_ok=True)\n",
        "    secret_path.write_text(tok)\n",
        "    # Convenience copy\n",
        "    home_path = pathlib.Path(\"~/.ipums_token\").expanduser()\n",
        "    home_path.write_text(tok)\n",
        "    # Env-var fallback\n",
        "    os.environ[\"IPUMS_API_KEY\"] = tok\n",
        "    token_box.value, token_box.disabled, save_btn.disabled = \"\", True, True\n",
        "    display(HTML(f\"<b>✅ Token saved to {secret_path}</b>\"))\n",
        "\n",
        "save_btn.on_click(save_token)\n",
        "token_ui = widgets.HBox([token_box, save_btn])\n",
        "\n",
        "# ── Instantiate widgets once ──────────────────────────────────────────────\n",
        "state_grid,  _state_checks   = build_state_grid()\n",
        "year_grid,   _year_checks    = build_year_grid()\n",
        "program_grid,_program_checks = build_program_panel()\n",
        "exclude_gq_cb = widgets.Checkbox(value=True,\n",
        "                                 description=\"Exclude group-quarter households\",\n",
        "                                 indent=False)\n",
        "split_fam_cb  = widgets.Checkbox(value=False,\n",
        "                                 description=\"Split households into families\",\n",
        "                                 indent=False)\n",
        "run_button = widgets.Button(description='Run hudlink', button_style='primary')\n",
        "\n",
        "# Helper lambdas\n",
        "get_states   = lambda: [cb.description for cb in _state_checks.values() if cb.value]\n",
        "get_years    = lambda: [int(cb.description) for cb in _year_checks if cb.value]\n",
        "get_programs = lambda: [cb.description for cb in _program_checks if cb.value]\n",
        "\n",
        "# ── Main click-handler -----------------------------------------------------\n",
        "def run_pipeline(_):\n",
        "    # guard: token present?\n",
        "    if not pathlib.Path(\"secrets/ipums_token.txt\").exists():\n",
        "        display(HTML(\"<b style='color:red'>Save your IPUMS token first.</b>\"))\n",
        "        return\n",
        "\n",
        "    # build CLI string\n",
        "    cmd = \"hudlink \" + \\\n",
        "          \"-s \" + \" \".join(get_states()) + \" \" + \\\n",
        "          \"-y \" + \" \".join(map(str, get_years())) + \" \" + \\\n",
        "          \"--programs \\\"\" + \",\".join(get_programs()) + \"\\\" \" + \\\n",
        "          (\"--split-families \" if split_fam_cb.value else \"\") + \\\n",
        "          (\"--exclude-group-quarters \" if exclude_gq_cb.value else \"\") + \\\n",
        "          \"--output-dir /content/hudlink_output\"\n",
        "\n",
        "    print(\"▶\", cmd)\n",
        "    get_ipython().system(cmd)\n",
        "\n",
        "run_button.on_click(run_pipeline)\n"
      ]
    }
  ],
  "metadata": {
    "colab": {
      "cell_execution_strategy": "setup",
      "collapsed_sections": [
        "lFdQ6zoTbFP5"
      ],
      "provenance": [],
      "include_colab_link": true
    },
    "kernelspec": {
      "display_name": "Python 3 (ipykernel)",
      "language": "python",
      "name": "python3"
    },
    "language_info": {
      "codemirror_mode": {
        "name": "ipython",
        "version": 3
      },
      "file_extension": ".py",
      "mimetype": "text/x-python",
      "name": "python",
      "nbconvert_exporter": "python",
      "pygments_lexer": "ipython3",
      "version": "3.11.7"
    }
  },
  "nbformat": 4,
  "nbformat_minor": 0
}